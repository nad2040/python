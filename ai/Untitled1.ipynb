{
 "cells": [
  {
   "cell_type": "code",
   "execution_count": 1,
   "id": "58f31579",
   "metadata": {},
   "outputs": [
    {
     "ename": "NameError",
     "evalue": "name 'gym' is not defined",
     "output_type": "error",
     "traceback": [
      "\u001b[0;31m---------------------------------------------------------------------------\u001b[0m",
      "\u001b[0;31mNameError\u001b[0m                                 Traceback (most recent call last)",
      "Cell \u001b[0;32mIn[1], line 3\u001b[0m\n\u001b[1;32m      1\u001b[0m \u001b[38;5;66;03m#gym.make('Blackjack-v1', natural=False, sab=False)\u001b[39;00m\n\u001b[1;32m      2\u001b[0m \u001b[38;5;66;03m#env = gym.make('Blackjack-v1', render_mode='human')\u001b[39;00m\n\u001b[0;32m----> 3\u001b[0m env \u001b[38;5;241m=\u001b[39m \u001b[43mgym\u001b[49m\u001b[38;5;241m.\u001b[39mmake(\u001b[38;5;124m'\u001b[39m\u001b[38;5;124mBlackjack-v1\u001b[39m\u001b[38;5;124m'\u001b[39m, new_step_api\u001b[38;5;241m=\u001b[39m\u001b[38;5;28;01mTrue\u001b[39;00m)\n\u001b[1;32m      5\u001b[0m \u001b[38;5;66;03m#import os\u001b[39;00m\n\u001b[1;32m      6\u001b[0m \u001b[38;5;66;03m#os.environ[\"SDL_VIDEODRIVER\"] = \"dummy\" # workaround render error\u001b[39;00m\n\u001b[1;32m      8\u001b[0m obs_space \u001b[38;5;241m=\u001b[39m env\u001b[38;5;241m.\u001b[39mobservation_space\n",
      "\u001b[0;31mNameError\u001b[0m: name 'gym' is not defined"
     ]
    }
   ],
   "source": []
  },
  {
   "cell_type": "code",
   "execution_count": 2,
   "id": "ee5241ed",
   "metadata": {},
   "outputs": [
    {
     "name": "stdout",
     "output_type": "stream",
     "text": [
      "CartPole-v0\n",
      "CartPole-v1\n",
      "MountainCar-v0\n",
      "MountainCarContinuous-v0\n",
      "Pendulum-v1\n",
      "Acrobot-v1\n",
      "LunarLander-v2\n",
      "LunarLanderContinuous-v2\n",
      "BipedalWalker-v3\n",
      "BipedalWalkerHardcore-v3\n",
      "CarRacing-v2\n",
      "Blackjack-v1\n",
      "FrozenLake-v1\n",
      "FrozenLake8x8-v1\n",
      "CliffWalking-v0\n",
      "Taxi-v3\n",
      "Reacher-v2\n",
      "Reacher-v4\n",
      "Pusher-v2\n",
      "Pusher-v4\n",
      "InvertedPendulum-v2\n",
      "InvertedPendulum-v4\n",
      "InvertedDoublePendulum-v2\n",
      "InvertedDoublePendulum-v4\n",
      "HalfCheetah-v2\n",
      "HalfCheetah-v3\n",
      "HalfCheetah-v4\n",
      "Hopper-v2\n",
      "Hopper-v3\n",
      "Hopper-v4\n",
      "Swimmer-v2\n",
      "Swimmer-v3\n",
      "Swimmer-v4\n",
      "Walker2d-v2\n",
      "Walker2d-v3\n",
      "Walker2d-v4\n",
      "Ant-v2\n",
      "Ant-v3\n",
      "Ant-v4\n",
      "Humanoid-v2\n",
      "Humanoid-v3\n",
      "Humanoid-v4\n",
      "HumanoidStandup-v2\n",
      "HumanoidStandup-v4\n",
      "0.26.1\n"
     ]
    }
   ],
   "source": [
    "import gym\n",
    "#help(gym.envs.registry)\n",
    "for key in gym.envs.registry.keys():\n",
    "  print(key)\n",
    "print(gym.__version__)"
   ]
  },
  {
   "cell_type": "code",
   "execution_count": 4,
   "id": "2d168feb",
   "metadata": {},
   "outputs": [
    {
     "name": "stdout",
     "output_type": "stream",
     "text": [
      "The observation space: Tuple(Discrete(32), Discrete(11), Discrete(2))\n",
      "The action space: Discrete(2)\n",
      "704 704\n"
     ]
    }
   ],
   "source": [
    "#gym.make('Blackjack-v1', natural=False, sab=False)\n",
    "#env = gym.make('Blackjack-v1', render_mode='human')\n",
    "env = gym.make('Blackjack-v1')\n",
    "\n",
    "#import os\n",
    "#os.environ[\"SDL_VIDEODRIVER\"] = \"dummy\" # workaround render error\n",
    "\n",
    "obs_space = env.observation_space\n",
    "action_space = env.action_space\n",
    "print(\"The observation space: {}\".format(obs_space))\n",
    "print(\"The action space: {}\".format(action_space))\n",
    "'''\n",
    "print(len(obs_space))\n",
    "print(obs_space.shape)\n",
    "\n",
    "for _ in range(100):\n",
    "  a,b,c = obs_space.sample()\n",
    "  print(a,b,c)\n",
    "'''\n",
    "#init q table\n",
    "q = {(a,b,c) : [0, 0] for a in range(32) for b in range(11) for c in range(2)}\n",
    "print(len(q), 32*11*2)"
   ]
  },
  {
   "cell_type": "code",
   "execution_count": 15,
   "id": "f4bf7d9a",
   "metadata": {},
   "outputs": [
    {
     "name": "stdout",
     "output_type": "stream",
     "text": [
      "done\n"
     ]
    }
   ],
   "source": [
    "import random\n",
    "import numpy as np\n",
    "\n",
    "n = 50000\n",
    "epsilon = 0.1\n",
    "alpha = 0.6\n",
    "gamma = 0.5\n",
    "\n",
    "for episode in range(n):\n",
    "  state = env.reset()[0]\n",
    "\n",
    "  reward = 0\n",
    "  terminated = False\n",
    "\n",
    "  while not terminated:\n",
    "    if random.uniform(0,1) < epsilon:\n",
    "      action = env.action_space.sample()\n",
    "    else:\n",
    "      action = np.argmax(q[state])\n",
    "    \n",
    "    next_state, reward, terminated, truncated, info = env.step(action)\n",
    "\n",
    "    q_v = q[state][action]\n",
    "    max_v = np.max(q[state])\n",
    "    n_q = (1 - alpha) * q_v + alpha * (reward + gamma * max_v)\n",
    "\n",
    "    q[state][action] = n_q\n",
    "    state = next_state\n",
    "\n",
    "#     if (episode + 1) % 100 == 0:\n",
    "#       print(episode)\n",
    "\n",
    "print(\"done\")\n"
   ]
  },
  {
   "cell_type": "code",
   "execution_count": 16,
   "id": "af916bd6",
   "metadata": {},
   "outputs": [
    {
     "name": "stdout",
     "output_type": "stream",
     "text": [
      "100000 0.41416 0.50009\n"
     ]
    }
   ],
   "source": [
    "def tpi(sum, hasAce):\n",
    "  if not hasAce:\n",
    "    return 0 if sum >= 17 else 1\n",
    "  return 0 if sum >= 19 else 1\n",
    "\n",
    "count = 0\n",
    "win = 0\n",
    "lose = 0\n",
    "\n",
    "while count < 100000:\n",
    "  # reset the environment and see the initial observation\n",
    "  obs = env.reset()[0]\n",
    "  # print(\"The initial observation is {}\".format(obs))\n",
    "\n",
    "  done = False\n",
    "  while not done:\n",
    "    #action = env.action_space.sample() # random sample # 282:678\n",
    "    #action = 0 if obs[0] >= 16 else env.action_space.sample() # 365:574\n",
    "    #action = 0 if obs[0] >= 17 else env.action_space.sample() # 361:577\n",
    "    #action = 0 if obs[0] >= 17 else 1 # 41:49\n",
    "    #action = 0 if obs[0] >= 18 else env.action_space.sample() # 354:588\n",
    "    #action = 0 if obs[0] >= 19 else env.action_space.sample() # 344:602\n",
    "    #action = 0 if obs[0] >= 20 else env.action_space.sample() # 332:619\n",
    "    #action = tpi(obs[0], obs[2])\n",
    "    action = np.argmax(q[obs])\n",
    "\n",
    "    # Take the action and get the new observation space\n",
    "    obs, reward, done, _, _ = env.step(action)\n",
    "    '''\n",
    "    print(\"Take action {}\".format(random_action))\n",
    "    print(\"New observation is {}\".format(new_obs))\n",
    "    print(\"reward {} done {} info {}\".format(reward, done, info))\n",
    "    '''\n",
    "  count += 1\n",
    "  if reward > 0:\n",
    "    win += 1\n",
    "  elif reward < 0:\n",
    "    lose += 1\n",
    "\n",
    "print(count, win/count, lose/count)\n",
    "\n"
   ]
  },
  {
   "cell_type": "code",
   "execution_count": null,
   "id": "6a94e712",
   "metadata": {},
   "outputs": [],
   "source": []
  }
 ],
 "metadata": {
  "kernelspec": {
   "display_name": "Python 3 (ipykernel)",
   "language": "python",
   "name": "python3"
  },
  "language_info": {
   "codemirror_mode": {
    "name": "ipython",
    "version": 3
   },
   "file_extension": ".py",
   "mimetype": "text/x-python",
   "name": "python",
   "nbconvert_exporter": "python",
   "pygments_lexer": "ipython3",
   "version": "3.10.9"
  }
 },
 "nbformat": 4,
 "nbformat_minor": 5
}
